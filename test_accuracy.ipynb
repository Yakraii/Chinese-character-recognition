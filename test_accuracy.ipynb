{
 "cells": [
  {
   "cell_type": "markdown",
   "id": "a4e6b07d",
   "metadata": {},
   "source": [
    "## 数据处理部分，同Train.jupyter"
   ]
  },
  {
   "cell_type": "code",
   "execution_count": 1,
   "id": "0e5c2e0a",
   "metadata": {},
   "outputs": [],
   "source": [
    "import tensorflow as tf\n",
    "import matplotlib.pyplot as plt\n",
    "import os,PIL,pathlib\n",
    "import numpy as np\n",
    "import pandas as pd\n",
    "import warnings\n",
    "from tensorflow import keras\n",
    "\n",
    "warnings.filterwarnings(\"ignore\")#忽略警告信息\n",
    "plt.rcParams['font.sans-serif'] = ['SimHei']  # 用来正常显示中文标签\n",
    "plt.rcParams['axes.unicode_minus'] = False  # 用来正常显示负号\n",
    "os.environ['TF_CPP_MIN_LOG_LEVEL']='2'\n",
    "\n",
    "\n",
    "#映射\n",
    "digit_map = {\n",
    "    '零': 0,\n",
    "    '一': 1,\n",
    "    '二': 2,\n",
    "    '三': 3,\n",
    "    '四': 4,\n",
    "    '五': 5,\n",
    "    '六': 6,\n",
    "    '七': 7,\n",
    "    '八': 8,\n",
    "    '九': 9,\n",
    "    '十': 10,\n",
    "    '百': 11,\n",
    "    '千': 12,\n",
    "    '万': 13,\n",
    "    '亿': 14\n",
    "}\n",
    "\n",
    "\n",
    "train = pd.read_csv(os.path.join(os.getcwd(), \"./data/train_dict.csv\"))\n",
    "test = pd.read_csv(os.path.join(os.getcwd(), \"./data/dev_dict.csv\"))\n",
    "#训练数据的标签\n",
    "train_image_label = [i for i in train[\"character\"]]\n",
    "test_image_label = [i for i in test[\"character\"]]\n",
    "\n",
    "#映射标签\n",
    "train_label_ds = [digit_map[char] for char in train_image_label]\n",
    "test_label_ds = [digit_map[char] for char in test_image_label]\n",
    "# print(train_label_ds)\n",
    "\n",
    "#将标签切片\n",
    "train_label_ds = tf.data.Dataset.from_tensor_slices(train_label_ds)\n",
    "test_label_ds = tf.data.Dataset.from_tensor_slices(test_label_ds)\n",
    "train_label_ds\n",
    "\n",
    "#训练数据的具体路径\n",
    "img_dir = os.path.join(\"./data/train/\")\n",
    "test_dir = os.path.join(\"./data/dev/\")\n",
    "train_image_paths = []\n",
    "test_image_paths = []\n",
    "\n",
    "for row in train.itertuples():\n",
    "    suite_id = row[1]\n",
    "    sample_id = row[2]\n",
    "    code = row[3]\n",
    "    train_image_paths.append(img_dir+\"input\"+\"_\"+str(suite_id)+\"_\"+str(sample_id)+\"_\"+str(code)+\".jpg\")\n",
    "for row in test.itertuples():\n",
    "    suite_id = row[1]\n",
    "    sample_id = row[2]\n",
    "    code = row[3]\n",
    "    test_image_paths.append(test_dir+\"input\"+\"_\"+str(suite_id)+\"_\"+str(sample_id)+\"_\"+str(code)+\".jpg\")\n",
    "    \n",
    "#对图片路径进行切片\n",
    "train_path_ds = tf.data.Dataset.from_tensor_slices(train_image_paths)\n",
    "test_path_ds = tf.data.Dataset.from_tensor_slices(test_image_paths)\n",
    "\n",
    "\n",
    "height = 64\n",
    "width = 64\n",
    "batch_size = 128\n",
    "epochs = 50\n",
    "\n",
    "#图片预处理\n",
    "def preprocess_image(image):\n",
    "    image = tf.image.decode_jpeg(image,channels = 3)\n",
    "    image = tf.image.resize(image,[height,width])\n",
    "    return image / 255.0\n",
    "\n",
    "def load_and_preprocess_image(path):\n",
    "    image = tf.io.read_file(path)\n",
    "    return preprocess_image(image)\n",
    "\n",
    "#根据路径读取图片并进行预处理\n",
    "train_image_ds = train_path_ds.map(load_and_preprocess_image,num_parallel_calls=tf.data.experimental.AUTOTUNE)\n",
    "test_image_ds = test_path_ds.map(load_and_preprocess_image,num_parallel_calls=tf.data.experimental.AUTOTUNE)\n",
    "\n",
    "train_ds = tf.data.Dataset.zip((train_image_ds,train_label_ds))\n",
    "test_ds = tf.data.Dataset.zip((test_image_ds,test_label_ds))\n",
    "\n",
    "train_ds = train_ds.batch(batch_size)#设置batch_size\n",
    "train_ds = train_ds.prefetch(buffer_size=tf.data.experimental.AUTOTUNE)\n",
    "test_ds = test_ds.batch(batch_size)\n",
    "test_ds = test_ds.prefetch(buffer_size=tf.data.experimental.AUTOTUNE)\n"
   ]
  },
  {
   "cell_type": "markdown",
   "id": "0cf6823c",
   "metadata": {},
   "source": [
    "# 导入模型"
   ]
  },
  {
   "cell_type": "code",
   "execution_count": 2,
   "id": "e221cf88",
   "metadata": {
    "scrolled": true
   },
   "outputs": [],
   "source": [
    "from tensorflow.keras.models import load_model\n",
    "\n",
    "# 导入保存的模型\n",
    "model_ResNet = load_model('./model/model_ResNet18.keras')\n",
    "model_CNN = load_model('./model/model_CNN.keras')"
   ]
  },
  {
   "cell_type": "code",
   "execution_count": 3,
   "id": "aee51fa7",
   "metadata": {},
   "outputs": [],
   "source": [
    "def printAccuracy(model):\n",
    "    predictions = model.predict(test_ds)\n",
    "    predicted_labels = tf.argmax(predictions, axis=1)\n",
    "    total_samples = 0\n",
    "    correct_predictions = 0\n",
    "\n",
    "    test_label = test_label_ds.map(lambda x: tf.cast(x, tf.int64))\n",
    "    predicted_labels = tf.cast(predicted_labels, tf.int64)\n",
    "\n",
    "    for predicted_label, true_label in zip(predicted_labels, test_label):\n",
    "        total_samples += 1\n",
    "        if predicted_label == true_label:\n",
    "            correct_predictions += 1\n",
    "\n",
    "    accuracy = correct_predictions / total_samples\n",
    "    print(accuracy)"
   ]
  },
  {
   "cell_type": "code",
   "execution_count": 4,
   "id": "400db4bb",
   "metadata": {
    "scrolled": false
   },
   "outputs": [
    {
     "name": "stdout",
     "output_type": "stream",
     "text": [
      "\u001b[1m24/24\u001b[0m \u001b[32m━━━━━━━━━━━━━━━━━━━━\u001b[0m\u001b[37m\u001b[0m \u001b[1m3s\u001b[0m 108ms/step\n",
      "0.9946666666666667\n"
     ]
    }
   ],
   "source": [
    "printAccuracy(model_ResNet)"
   ]
  },
  {
   "cell_type": "code",
   "execution_count": 5,
   "id": "e877e391",
   "metadata": {},
   "outputs": [
    {
     "name": "stdout",
     "output_type": "stream",
     "text": [
      "\u001b[1m24/24\u001b[0m \u001b[32m━━━━━━━━━━━━━━━━━━━━\u001b[0m\u001b[37m\u001b[0m \u001b[1m1s\u001b[0m 40ms/step\n",
      "0.9806666666666667\n"
     ]
    }
   ],
   "source": [
    "printAccuracy(model_CNN)"
   ]
  }
 ],
 "metadata": {
  "kernelspec": {
   "display_name": "pytorch",
   "language": "python",
   "name": "pytorch"
  },
  "language_info": {
   "codemirror_mode": {
    "name": "ipython",
    "version": 3
   },
   "file_extension": ".py",
   "mimetype": "text/x-python",
   "name": "python",
   "nbconvert_exporter": "python",
   "pygments_lexer": "ipython3",
   "version": "3.9.18"
  },
  "toc": {
   "base_numbering": 1,
   "nav_menu": {},
   "number_sections": true,
   "sideBar": true,
   "skip_h1_title": false,
   "title_cell": "Table of Contents",
   "title_sidebar": "Contents",
   "toc_cell": false,
   "toc_position": {},
   "toc_section_display": true,
   "toc_window_display": false
  }
 },
 "nbformat": 4,
 "nbformat_minor": 5
}
